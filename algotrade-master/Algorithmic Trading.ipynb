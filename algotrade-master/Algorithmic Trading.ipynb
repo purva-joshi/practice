{
 "cells": [
  {
   "cell_type": "markdown",
   "metadata": {},
   "source": [
    "# Algorithmic Trading\n"
   ]
  },
  {
   "cell_type": "markdown",
   "metadata": {},
   "source": [
    "\n",
    "For financial time series data analysis, support and resistance are very popular concepts among\n",
    "traders. These help a trader to anticipate quantitatively the price movements in near future. The support and\n",
    "resistance are represented by straight lines. This text, after a brief introduction to support and resistance,\n",
    "presents an algorithm to find those, and obtain an empirical distribution of the time interval in the future for which the the support and resistance are obeyed by the data. We illustrate these using an example.\n"
   ]
  },
  {
   "cell_type": "markdown",
   "metadata": {},
   "source": [
    "# Support\n",
    "\n",
    "Support is a concept in finance which refers to the historically observed lower bound of the price of a stock. The stock price rarely goes below this level. If the stock price decreases and hits the support, it either bounces back (decreases till the stock price is equal to the support and then increases), in which case the support remains unchanged, or it passes through the support and goes on decreasing till a new support is established, using recent data. Buyers buy shares of a stock near the support level, since it is thought that the prices of a stock will not decrease beyond the support level.\n",
    "\n"
   ]
  },
  {
   "cell_type": "markdown",
   "metadata": {},
   "source": [
    "# Resistance\n",
    "Resistance is, in some sense, a complement to the support. Resistance refers to the historically observed upper bound of the price of a stock, so the resistance is rarely breached. If the stock price increases, it either bounces off the resistance level, thus confirming it, or passes through till a new resistance level has been established. Both resistance and support are characterized by straight lines. Sellers sell shares when a stock is at its resistance level, since prices rarely go above the resistance level."
   ]
  },
  {
   "cell_type": "markdown",
   "metadata": {},
   "source": [
    "Support and resistance are used in technical analysis of stock prices (where the focus is on the observing the trends and patterns instead of looking at the qualitative and quantitative features of the company). Together, support and resistance prevent the price of a stock from changing too much in a particular direction.\n",
    "\n",
    "In this experiment, given a time series data of stock prices observed at discrete points in time (equally spaced from each other), firstly we try to find out the equations of the straight lines representing support and resistance, respectively, using $l$ units of the data as lag. Once we have determined the equations of the straight lines, we try to find out the time intervals in the near future till which the given support and resistance levels are obeyed by the data. We determine these time intervals for different values of $l$, where $l$ is the number of previous data points used to calculate the support and resistance equations. We then use all these values to find out an empirical distribution of the time intervals till which the stock prices stay within the support and resistance levels."
   ]
  },
  {
   "cell_type": "markdown",
   "metadata": {},
   "source": [
    "# Theory\n",
    "Suppose we have data points $\\left\\lbrace S_t| t = 1, 2, \\cdots, n \\right\\rbrace$ which represent the stock prices as observed at time points $t = 1,2,\\cdots, n$ which are equally spaced. \n",
    "Let the present time be denoted by $T$ and let $l$ denote the units of lag data. Therefore we will be using $\\left\\lbrace S_{T-l} , S_{T-l+1}, \\cdots, S_{t} \\right\\rbrace$ as lag data. We then need to find out the center of gravity of the curve obtained by connecting $\\left\\lbrace S_{T-l} , S_{T-l+1}, \\cdots, S_{t} \\right\\rbrace$ . This is because we want to find out the equations of support and resistance by minimizing the perpendicular distance between the center of gravity and the straight line representing support/resistance.\n",
    "\n",
    "Therefore, the center of gravity $g = (g_1, g_2)$ is -"
   ]
  },
  {
   "cell_type": "markdown",
   "metadata": {},
   "source": [
    "$$(g_1,g_2) = (T - \\frac{l}{2}, \\frac{1}{l} \\sum_{s=1}^{l} X_s)$$    \n",
    "where $X_s = S_{T-l+s}$"
   ]
  },
  {
   "cell_type": "markdown",
   "metadata": {},
   "source": [
    "Now, we choose two points $(s_1, X_{s_1})$ and $(s_2, X_{s_2})$ lying on the curve and we determine the equation of the line passing through $(s_1, X_{s_1})$ and $(s_2, X_{s_2})$.\n",
    "$$L(s) = X_{s_1} + \\frac{X_{s_2} - X_{s_1}}{s_2 - s_1}(s - s_1)$$\n",
    "Thus $(s, L(s))$ is the required equation.\n",
    "Next, we define the cost to be minimized. Let $J(s_1,s_2)$ be the perpendicular distance between the point $(g_1,g_2)$ and the line $(s, L(s))$. Then $J(s_1,s_2)$ is -\n",
    "$$J(s_1,s_2) = \\frac{|{(X_{s_2} - X_{s_1})|}g_1 - (s_2 - s_1)g_2 +(X_{s_1}s_2 - X_{s_2}s_1)}{\\sqrt{(X_{s_2} - X_{s_1})^2 + (s_2 - s_1)^2}}$$\n"
   ]
  },
  {
   "cell_type": "markdown",
   "metadata": {},
   "source": [
    "For obtaining the equation of support -\n",
    "Solve the Minimization Problem :\n",
    "$$\\min_{T-l\\leq s_1, s_2 \\leq T} J(s_1,s_2)$$ with the condition $X_k \\geq L(k;s_1,s_2) \\text{ } \\forall \\text{ } 1 \\leq k \\leq l$"
   ]
  },
  {
   "cell_type": "markdown",
   "metadata": {},
   "source": [
    "Let $(s'_1, s'_2)$ be the minimizer.Then the equation of support is given by -"
   ]
  },
  {
   "cell_type": "markdown",
   "metadata": {},
   "source": [
    "$$L(s) = X_{s'_1} + \\frac{X_{s'_2} - X_{s'_1}}{s'_2 - s'_1}(s - s'_1)$$\n",
    "The equation of resistance is arrived at by a similar method."
   ]
  },
  {
   "cell_type": "markdown",
   "metadata": {},
   "source": [
    "## Empirical distribution of $\\delta^+(l)$ and $\\delta^-(l)$"
   ]
  },
  {
   "cell_type": "markdown",
   "metadata": {},
   "source": [
    "Given $l$, $ \\delta^+ (l)$ is the length of time in the immediate future where resistance was obeyed. Similarly, $\\delta^- (l)$ is the length of time in immediate future where support was obeyed. For fixed $l$, $\\delta^+ (l)$ and $\\delta^- (l)$ are assumed to be a random time series.\n",
    "\n"
   ]
  },
  {
   "cell_type": "markdown",
   "metadata": {},
   "source": [
    "### __Empirical Distribution__"
   ]
  },
  {
   "cell_type": "markdown",
   "metadata": {},
   "source": [
    "If we have a sequence of iid sample from a population $(y_1, y_2, ..., y_n)$, then $$ \\hat{F}(y)= \\frac{|i|y_i\\le y|}{n}$$\n",
    "$\\hat{F}(y)$ estimates the probability $P(Y\\le y)=F_Y(y)$.\n",
    "Let $\\left\\{ y_{(1)},y_{(2)},...,y_{(n)}\\right\\}$ be an ordered set."
   ]
  }
 ],
 "metadata": {
  "kernelspec": {
   "display_name": "Python 3",
   "language": "python",
   "name": "python3"
  },
  "language_info": {
   "codemirror_mode": {
    "name": "ipython",
    "version": 3
   },
   "file_extension": ".py",
   "mimetype": "text/x-python",
   "name": "python",
   "nbconvert_exporter": "python",
   "pygments_lexer": "ipython3",
   "version": "3.6.4"
  }
 },
 "nbformat": 4,
 "nbformat_minor": 2
}
